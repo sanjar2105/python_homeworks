{
 "cells": [
  {
   "cell_type": "markdown",
   "id": "b7a3f02d",
   "metadata": {},
   "source": [
    "Today is lesson 2"
   ]
  },
  {
   "cell_type": "markdown",
   "id": "d3b53680",
   "metadata": {},
   "source": [
    "# Strings"
   ]
  },
  {
   "cell_type": "code",
   "execution_count": null,
   "id": "16f46efc",
   "metadata": {},
   "outputs": [
    {
     "name": "stdout",
     "output_type": "stream",
     "text": [
      "Mike\n"
     ]
    },
    {
     "data": {
      "text/plain": [
       "'Mike'"
      ]
     },
     "execution_count": 3,
     "metadata": {},
     "output_type": "execute_result"
    }
   ],
   "source": [
    "# single quote '\n",
    "name = 'Mike'\n",
    "print(name)\n",
    "name"
   ]
  },
  {
   "cell_type": "code",
   "execution_count": 5,
   "id": "d1044fb4",
   "metadata": {},
   "outputs": [
    {
     "data": {
      "text/plain": [
       "'Josh'"
      ]
     },
     "execution_count": 5,
     "metadata": {},
     "output_type": "execute_result"
    }
   ],
   "source": [
    "# double-quote \"\n",
    "name = \"Josh\"\n",
    "name"
   ]
  },
  {
   "cell_type": "code",
   "execution_count": 8,
   "id": "4db10034",
   "metadata": {},
   "outputs": [
    {
     "name": "stdout",
     "output_type": "stream",
     "text": [
      "this is a\n",
      "multi\n",
      "line \n",
      "string\n"
     ]
    }
   ],
   "source": [
    "sentence = \"\"\"this is a\n",
    "multi\n",
    "line \n",
    "string\"\"\"\n",
    "\n",
    "print(sentence)"
   ]
  },
  {
   "cell_type": "code",
   "execution_count": 10,
   "id": "7084aa8c",
   "metadata": {},
   "outputs": [
    {
     "name": "stdout",
     "output_type": "stream",
     "text": [
      "this\n",
      "is a multi line\n",
      "string\n"
     ]
    }
   ],
   "source": [
    "sentence = '''this\n",
    "is a multi line\n",
    "string'''\n",
    "print(sentence)"
   ]
  },
  {
   "cell_type": "code",
   "execution_count": 11,
   "id": "c34f331f",
   "metadata": {},
   "outputs": [
    {
     "name": "stdout",
     "output_type": "stream",
     "text": [
      "Hello My name is John. I'm 20 years old.\n"
     ]
    }
   ],
   "source": [
    "sentence = 'Hello My name is John. I\\'m 20 years old.'\n",
    "\n",
    "print(sentence)"
   ]
  },
  {
   "cell_type": "code",
   "execution_count": 13,
   "id": "f696a9ff",
   "metadata": {},
   "outputs": [
    {
     "name": "stdout",
     "output_type": "stream",
     "text": [
      "Hello My name is John. I'm 20 years old.\n"
     ]
    }
   ],
   "source": [
    "sentence = \"Hello My name is John. I'm 20 years old.\"\n",
    "\n",
    "print(sentence)"
   ]
  },
  {
   "cell_type": "code",
   "execution_count": 14,
   "id": "5864dcb9",
   "metadata": {},
   "outputs": [
    {
     "name": "stdout",
     "output_type": "stream",
     "text": [
      " Hello My name is John. I'm 20 years old.\n"
     ]
    }
   ],
   "source": [
    "sentence = ''' Hello My name is John. I'm 20 years old.'''\n",
    "\n",
    "print(sentence)"
   ]
  },
  {
   "cell_type": "code",
   "execution_count": null,
   "id": "f2fb6f8c",
   "metadata": {},
   "outputs": [
    {
     "data": {
      "text/plain": [
       "'o'"
      ]
     },
     "execution_count": 19,
     "metadata": {},
     "output_type": "execute_result"
    }
   ],
   "source": [
    "# indexing starts from 0\n",
    "#       012345678910\n",
    "word = 'hello world'\n",
    "\n",
    "#           ...4321\n",
    "\n",
    "word[4]"
   ]
  },
  {
   "cell_type": "code",
   "execution_count": 23,
   "id": "96130b04",
   "metadata": {},
   "outputs": [
    {
     "ename": "IndexError",
     "evalue": "string index out of range",
     "output_type": "error",
     "traceback": [
      "\u001b[1;31m---------------------------------------------------------------------------\u001b[0m",
      "\u001b[1;31mIndexError\u001b[0m                                Traceback (most recent call last)",
      "\u001b[1;32m~\\AppData\\Local\\Temp/ipykernel_25288/3818959320.py\u001b[0m in \u001b[0;36m<module>\u001b[1;34m\u001b[0m\n\u001b[0;32m      2\u001b[0m \u001b[1;33m\u001b[0m\u001b[0m\n\u001b[0;32m      3\u001b[0m \u001b[0mword\u001b[0m\u001b[1;33m[\u001b[0m\u001b[1;33m-\u001b[0m\u001b[1;36m3\u001b[0m\u001b[1;33m]\u001b[0m\u001b[1;33m\u001b[0m\u001b[1;33m\u001b[0m\u001b[0m\n\u001b[1;32m----> 4\u001b[1;33m \u001b[0mword\u001b[0m\u001b[1;33m[\u001b[0m\u001b[1;36m25\u001b[0m\u001b[1;33m]\u001b[0m\u001b[1;33m\u001b[0m\u001b[1;33m\u001b[0m\u001b[0m\n\u001b[0m",
      "\u001b[1;31mIndexError\u001b[0m: string index out of range"
     ]
    }
   ],
   "source": [
    "# negative numbers (manfiy son)\n",
    "\n",
    "word[-3]\n",
    "word[25]\n"
   ]
  },
  {
   "cell_type": "markdown",
   "id": "c85ea7eb",
   "metadata": {},
   "source": [
    "# Slicing"
   ]
  },
  {
   "cell_type": "code",
   "execution_count": null,
   "id": "d9de56a8",
   "metadata": {},
   "outputs": [
    {
     "data": {
      "text/plain": [
       "'llo wo'"
      ]
     },
     "execution_count": 33,
     "metadata": {},
     "output_type": "execute_result"
    }
   ],
   "source": [
    "# [start:end]  boshini oladi, oxiri olmaydi \n",
    "# [start:end:step] \n",
    "#       012345678910\n",
    "word = 'hello world'\n",
    "word[2:8]"
   ]
  },
  {
   "cell_type": "code",
   "execution_count": 36,
   "id": "21dfe490",
   "metadata": {},
   "outputs": [
    {
     "data": {
      "text/plain": [
       "'hello'"
      ]
     },
     "execution_count": 36,
     "metadata": {},
     "output_type": "execute_result"
    }
   ],
   "source": [
    "word[1:]\n",
    "\n",
    "word[:5]"
   ]
  },
  {
   "cell_type": "code",
   "execution_count": 38,
   "id": "1b39ac02",
   "metadata": {},
   "outputs": [
    {
     "data": {
      "text/plain": [
       "'hello worl'"
      ]
     },
     "execution_count": 38,
     "metadata": {},
     "output_type": "execute_result"
    }
   ],
   "source": [
    "word = 'hello world'\n",
    "\n",
    "word[:-1]"
   ]
  },
  {
   "cell_type": "code",
   "execution_count": 40,
   "id": "2a36d46f",
   "metadata": {},
   "outputs": [
    {
     "data": {
      "text/plain": [
       "'drwolh'"
      ]
     },
     "execution_count": 40,
     "metadata": {},
     "output_type": "execute_result"
    }
   ],
   "source": [
    "word = 'hello world'\n",
    "\n",
    "word[::-2]"
   ]
  },
  {
   "cell_type": "code",
   "execution_count": null,
   "id": "8185724f",
   "metadata": {},
   "outputs": [
    {
     "data": {
      "text/plain": [
       "'eoo'"
      ]
     },
     "execution_count": 42,
     "metadata": {},
     "output_type": "execute_result"
    }
   ],
   "source": [
    "#       012345678\n",
    "word = \"hello world\"\n",
    "#  0123456\n",
    "# \"hello w\"\n",
    "word[1:7:3]\n"
   ]
  },
  {
   "cell_type": "markdown",
   "id": "3277fba0",
   "metadata": {},
   "source": [
    "## String Methods"
   ]
  },
  {
   "cell_type": "code",
   "execution_count": 47,
   "id": "7c604b8d",
   "metadata": {},
   "outputs": [
    {
     "data": {
      "text/plain": [
       "'Hello'"
      ]
     },
     "execution_count": 47,
     "metadata": {},
     "output_type": "execute_result"
    }
   ],
   "source": [
    "word = 'heLLO'\n",
    "\n",
    "#dir(word)\n",
    "\n",
    "word.capitalize()\n",
    "\n"
   ]
  },
  {
   "cell_type": "code",
   "execution_count": 49,
   "id": "67740d29",
   "metadata": {},
   "outputs": [
    {
     "data": {
      "text/plain": [
       "'SALOM'"
      ]
     },
     "execution_count": 49,
     "metadata": {},
     "output_type": "execute_result"
    }
   ],
   "source": [
    "word = 'salom'\n",
    "\n",
    "word.upper()\n",
    "\n"
   ]
  },
  {
   "cell_type": "code",
   "execution_count": 51,
   "id": "41be80f5",
   "metadata": {},
   "outputs": [
    {
     "data": {
      "text/plain": [
       "'salom'"
      ]
     },
     "execution_count": 51,
     "metadata": {},
     "output_type": "execute_result"
    }
   ],
   "source": [
    "word = 'SAlOm'\n",
    "\n",
    "word.lower()"
   ]
  },
  {
   "cell_type": "code",
   "execution_count": 55,
   "id": "e7d2c9f7",
   "metadata": {},
   "outputs": [
    {
     "name": "stdout",
     "output_type": "stream",
     "text": [
      "hello\n"
     ]
    }
   ],
   "source": [
    "given_word = input(\"Nimadir yozing:\")\n",
    "print(given_word)"
   ]
  },
  {
   "cell_type": "code",
   "execution_count": null,
   "id": "33d2d375",
   "metadata": {},
   "outputs": [
    {
     "name": "stdout",
     "output_type": "stream",
     "text": [
      "                       helloooooo\n",
      "helloooooo\n"
     ]
    }
   ],
   "source": [
    "given_word = input(\"Nimadir yozing:\")\n",
    "print(given_word)\n",
    "\n",
    "# lstrip - removes white spaces from the left side of a string\n",
    "given_word = given_word.lstrip()\n",
    "\n",
    "print(given_word)\n",
    "\n",
    "\n",
    "\n",
    "\n",
    "\n"
   ]
  },
  {
   "cell_type": "code",
   "execution_count": 64,
   "id": "5ceff966",
   "metadata": {},
   "outputs": [
    {
     "name": "stdout",
     "output_type": "stream",
     "text": [
      "                 hellooooo                    ,end\n"
     ]
    },
    {
     "data": {
      "text/plain": [
       "'hellooooo'"
      ]
     },
     "execution_count": 64,
     "metadata": {},
     "output_type": "execute_result"
    }
   ],
   "source": [
    "given_word = input(\"Nimadir yozing:\")\n",
    "print(given_word, ',end')\n",
    "\n",
    "# lstrip - removes white spaces from the left side of a string\n",
    "given_word = given_word.lstrip()\n",
    "\n",
    "given_word.rstrip()\n",
    "\n"
   ]
  },
  {
   "cell_type": "code",
   "execution_count": 70,
   "id": "cd840ca3",
   "metadata": {},
   "outputs": [
    {
     "data": {
      "text/plain": [
       "'Nimadir yozing:'"
      ]
     },
     "execution_count": 70,
     "metadata": {},
     "output_type": "execute_result"
    }
   ],
   "source": [
    "given_word = \"Nimadir yozing:\"\n",
    "given_word.strip()\n"
   ]
  },
  {
   "cell_type": "code",
   "execution_count": 68,
   "id": "b1c0059c",
   "metadata": {},
   "outputs": [
    {
     "data": {
      "text/plain": [
       "['This is lesson ', ' about strings']"
      ]
     },
     "execution_count": 68,
     "metadata": {},
     "output_type": "execute_result"
    }
   ],
   "source": [
    "given_word = \"This is lesson 2 about strings\"\n",
    "\n",
    "given_word.split(\"2\")"
   ]
  },
  {
   "cell_type": "code",
   "execution_count": 69,
   "id": "ce9c24c7",
   "metadata": {},
   "outputs": [
    {
     "data": {
      "text/plain": [
       "['This', 'is', 'lesson', '2', 'about', 'strings']"
      ]
     },
     "execution_count": 69,
     "metadata": {},
     "output_type": "execute_result"
    }
   ],
   "source": [
    "given_word = \"This is lesson 2 about strings\"\n",
    "given_word.split()"
   ]
  },
  {
   "cell_type": "markdown",
   "id": "2d81c585",
   "metadata": {},
   "source": [
    "## String Formatting"
   ]
  },
  {
   "cell_type": "code",
   "execution_count": null,
   "id": "01852c9b",
   "metadata": {},
   "outputs": [
    {
     "name": "stdout",
     "output_type": "stream",
     "text": [
      "Your name is John  and your age is 20\n"
     ]
    }
   ],
   "source": [
    "name = 'John'\n",
    "age = 20\n",
    "\n",
    "print('Your name is', name, ' and your age is', age)\n"
   ]
  },
  {
   "cell_type": "code",
   "execution_count": 77,
   "id": "c3cac0cb",
   "metadata": {},
   "outputs": [
    {
     "name": "stdout",
     "output_type": "stream",
     "text": [
      "Your name is Anna and your age is 20\n"
     ]
    }
   ],
   "source": [
    "name = 'Anna'\n",
    "age = 20\n",
    "# curly brackets\n",
    "print('Your name is {} and your age is {}'.format(name,age))"
   ]
  },
  {
   "cell_type": "code",
   "execution_count": 79,
   "id": "db0900bd",
   "metadata": {},
   "outputs": [
    {
     "name": "stdout",
     "output_type": "stream",
     "text": [
      "Your name is 20 and your age is Anna\n"
     ]
    }
   ],
   "source": [
    "name = 'Anna'\n",
    "age = 20\n",
    "# curly brackets\n",
    "print('Your name is {} and your age is {}'.format(age,name))"
   ]
  },
  {
   "cell_type": "code",
   "execution_count": 82,
   "id": "abcd94ad",
   "metadata": {},
   "outputs": [
    {
     "name": "stdout",
     "output_type": "stream",
     "text": [
      "Your name is Anna and your age is 20\n"
     ]
    }
   ],
   "source": [
    "name = 'Anna'\n",
    "age = 20\n",
    "# curly brackets\n",
    "print('Your name is {first_name} and your age is {age_ins}'.format(age_ins=age,first_name=name))"
   ]
  },
  {
   "cell_type": "code",
   "execution_count": 83,
   "id": "6320f0cd",
   "metadata": {},
   "outputs": [
    {
     "name": "stdout",
     "output_type": "stream",
     "text": [
      "Your name is Josh and Your age is 30\n"
     ]
    }
   ],
   "source": [
    "name = 'Josh'\n",
    "age = 30\n",
    "## f-string is available on or later versions of Python 3.6\n",
    "print(f'Your name is {name} and Your age is {age}')"
   ]
  },
  {
   "cell_type": "code",
   "execution_count": 84,
   "id": "dd323ffc",
   "metadata": {},
   "outputs": [
    {
     "name": "stdout",
     "output_type": "stream",
     "text": [
      "Your name is Anna and your age is 20. Who named you Anna?\n"
     ]
    }
   ],
   "source": [
    "name = 'Anna'\n",
    "age = 20\n",
    "# curly brackets\n",
    "print('Your name is {first_name} and your age is {age_ins}. Who named you {first_name}?'.format(age_ins=age,first_name=name))"
   ]
  },
  {
   "cell_type": "code",
   "execution_count": null,
   "id": "125cf5e3",
   "metadata": {},
   "outputs": [
    {
     "name": "stdout",
     "output_type": "stream",
     "text": [
      "Your name is Josh and Your age is 30. Who named you Josh?\n"
     ]
    }
   ],
   "source": [
    "name = 'Josh'\n",
    "age = 30\n",
    "## f-string is available on or later versions of Python 3.6\n",
    "print(f'Your name is {name} and Your age is {age}. Who named you {name}?')\n",
    "\n"
   ]
  },
  {
   "cell_type": "code",
   "execution_count": null,
   "id": "b0e2b048",
   "metadata": {},
   "outputs": [
    {
     "name": "stdout",
     "output_type": "stream",
     "text": [
      "this\tis a multi line \n",
      "string\n"
     ]
    }
   ],
   "source": [
    "sentence = 'this\\tis a multi line \\nstring'\n",
    "# \\n = new line\n",
    "# \\ = escape (',\"............)\n",
    "\n",
    "# \\t = tab\n",
    "\n",
    "print(sentence)\n",
    "\n"
   ]
  },
  {
   "cell_type": "code",
   "execution_count": null,
   "id": "ad8299be",
   "metadata": {},
   "outputs": [
    {
     "name": "stdout",
     "output_type": "stream",
     "text": [
      "John Wick\n",
      "John Wick\n"
     ]
    }
   ],
   "source": [
    "first_name = 'John'\n",
    "\n",
    "last_name = 'Wick'\n",
    "\n",
    "print(first_name +' ' + last_name)\n",
    "\n",
    "last_name = ' Wick'\n",
    "print(first_name + last_name)\n"
   ]
  },
  {
   "cell_type": "code",
   "execution_count": null,
   "id": "694f2d9e",
   "metadata": {},
   "outputs": [
    {
     "name": "stdout",
     "output_type": "stream",
     "text": [
      "This is lesson 2 about strings\n",
      "This,is,lesson,2,about,strings\n",
      "This----is----lesson----2----about----strings\n"
     ]
    },
    {
     "data": {
      "text/plain": [
       "'This is lesson 2 about strings'"
      ]
     },
     "execution_count": 101,
     "metadata": {},
     "output_type": "execute_result"
    }
   ],
   "source": [
    "list_sentence = ['This', 'is', 'lesson', '2', 'about', 'strings']\n",
    "\n",
    "\n",
    "print(' '.join(list_sentence))\n",
    "\n",
    "print(','.join(list_sentence))\n",
    "\n",
    "print('----'.join(list_sentence))\n",
    "\n",
    "' '.join(list_sentence)"
   ]
  },
  {
   "cell_type": "code",
   "execution_count": 102,
   "id": "3b6ab7ba",
   "metadata": {},
   "outputs": [
    {
     "data": {
      "text/plain": [
       "'John Wick'"
      ]
     },
     "execution_count": 102,
     "metadata": {},
     "output_type": "execute_result"
    }
   ],
   "source": [
    "first_name = 'John'\n",
    "\n",
    "last_name = 'Wick'\n",
    "\n",
    "' '.join([first_name,last_name])"
   ]
  },
  {
   "cell_type": "code",
   "execution_count": 2,
   "id": "e3be6563",
   "metadata": {},
   "outputs": [
    {
     "data": {
      "text/plain": [
       "'JoshJoshJoshJoshJosh'"
      ]
     },
     "execution_count": 2,
     "metadata": {},
     "output_type": "execute_result"
    }
   ],
   "source": [
    "first_name = 'Josh'\n",
    "\n",
    "\n",
    "first_name * 5\n",
    "\n",
    "# +, * \n",
    "\n"
   ]
  },
  {
   "cell_type": "code",
   "execution_count": 6,
   "id": "1baa8ac6",
   "metadata": {},
   "outputs": [
    {
     "data": {
      "text/plain": [
       "['d', 'd', 'f', 'f', 'g', 'g', 'g', 's', 's', 's']"
      ]
     },
     "execution_count": 6,
     "metadata": {},
     "output_type": "execute_result"
    }
   ],
   "source": [
    "# my_list = [1,2,3,4]\n",
    "\n",
    "my_list = list('sgsdfgsdfg')\n",
    "\n",
    "my_list.sort()\n",
    "\n",
    "my_list\n"
   ]
  },
  {
   "cell_type": "code",
   "execution_count": 7,
   "metadata": {},
   "outputs": [
    {
     "data": {
      "text/plain": [
       "['d', 'd', 'f', 'f', 'g', 'g', 'g', 's', 's', 's']"
      ]
     },
     "execution_count": 7,
     "metadata": {},
     "output_type": "execute_result"
    }
   ],
   "source": [
    "new_lsit = my_list\n",
    "\n",
    "new_lsit"
   ]
  },
  {
   "cell_type": "code",
   "execution_count": 8,
   "id": "c2c490c4",
   "metadata": {},
   "outputs": [
    {
     "data": {
      "text/plain": [
       "('d', 'd', 'f', 'f', 'g', 'g', 'g', 's', 's', 's')"
      ]
     },
     "execution_count": 8,
     "metadata": {},
     "output_type": "execute_result"
    }
   ],
   "source": [
    "tuple(my_list)"
   ]
  },
  {
   "cell_type": "code",
   "execution_count": 9,
   "id": "07bfdc9b",
   "metadata": {},
   "outputs": [
    {
     "name": "stdout",
     "output_type": "stream",
     "text": [
      "[1, 2, 3, 5, 7]\n"
     ]
    }
   ],
   "source": [
    "t = (5, 2, 3, 7, 1)\n",
    "x = sorted(t)\n",
    "print(x)\n"
   ]
  },
  {
   "cell_type": "code",
   "execution_count": 10,
   "id": "743b0a0d",
   "metadata": {},
   "outputs": [],
   "source": [
    "\n",
    "x,*middle, y = t"
   ]
  },
  {
   "cell_type": "code",
   "execution_count": null,
   "id": "44686098",
   "metadata": {},
   "outputs": [],
   "source": []
  },
  {
   "cell_type": "code",
   "execution_count": 11,
   "id": "36fd82be",
   "metadata": {},
   "outputs": [
    {
     "data": {
      "text/plain": [
       "[2, 3, 7]"
      ]
     },
     "execution_count": 11,
     "metadata": {},
     "output_type": "execute_result"
    }
   ],
   "source": [
    "middle"
   ]
  }
 ],
 "metadata": {
  "kernelspec": {
   "display_name": "Python 3",
   "language": "python",
   "name": "python3"
  },
  "language_info": {
   "codemirror_mode": {
    "name": "ipython",
    "version": 3
   },
   "file_extension": ".py",
   "mimetype": "text/x-python",
   "name": "python",
   "nbconvert_exporter": "python",
   "pygments_lexer": "ipython3",
   "version": "3.13.3"
  }
 },
 "nbformat": 4,
 "nbformat_minor": 5
}
